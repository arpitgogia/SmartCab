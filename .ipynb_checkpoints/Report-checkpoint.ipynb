{
 "cells": [
  {
   "cell_type": "markdown",
   "metadata": {},
   "source": [
    "Project 4: Train a Smartcab\n",
    "==========================\n",
    "\n",
    "Training a smartcab using Reinforcement Learning\n",
    "\n",
    "Task 1\n",
    "======\n",
    "### Implement a basic Learning Agent\n",
    "The basic approach to building the basic Learning Agent was to choose the action with the best possible reward at each stage. So basically I started with a Random behavioural state and if the reward after a particular random action was "
   ]
  }
 ],
 "metadata": {
  "kernelspec": {
   "display_name": "Python 2",
   "language": "python",
   "name": "python2"
  },
  "language_info": {
   "codemirror_mode": {
    "name": "ipython",
    "version": 2
   },
   "file_extension": ".py",
   "mimetype": "text/x-python",
   "name": "python",
   "nbconvert_exporter": "python",
   "pygments_lexer": "ipython2",
   "version": "2.7"
  }
 },
 "nbformat": 4,
 "nbformat_minor": 0
}
