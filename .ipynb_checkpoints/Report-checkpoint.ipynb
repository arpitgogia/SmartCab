{
 "cells": [
  {
   "cell_type": "markdown",
   "metadata": {},
   "source": [
    "Project 4: Train a Smartcab\n",
    "==========================\n",
    "\n",
    "Training a smartcab using Reinforcement Learning\n",
    "\n",
    "Task 1\n",
    "======\n",
    "### Implement a basic Learning Agent\n",
    "Actions are randomly choosen at each iteration using **```random.choice(available_actions)```**\n",
    "```\n",
    "if inputs['light'] == 'red':\n",
    "            \"\"\"\n",
    "                Red Light means :\n",
    "                    Left when no oncoming traffic\n",
    "                    No action\n",
    "            \"\"\"\n",
    "            if inputs['oncoming'] != 'left':\n",
    "                available_actions = [None, 'right']\n",
    "        else:\n",
    "            \"\"\"\n",
    "                Green Light means :\n",
    "                    Left only if no forward oncoming traffic\n",
    "                    Perform atleast some action\n",
    "            \"\"\"        \n",
    "            available_actions = ['right', 'left', 'forward']\n",
    "            if inputs['oncoming'] == 'forward':\n",
    "                available_actions.remove('left')\n",
    "        action = None\n",
    "        if available_actions != []:\n",
    "            action = random.choice(available_actions)\n",
    "```\n",
    "### ***Q1. Mention what you see in the agent’s behavior. Does it eventually make it to the target location?***\n",
    "The output as a result of the random movement algorithm (```/smartcab/test_random.txt```):\n",
    "<br>\n",
    ">**32 trips out of the 100, the cab reaches the destination.**<br>\n",
    "\n",
    "The agent is able to reach the destination more than 25% of the trips while still following all the traffic rules.\n",
    "### ***Q2. Identify and Update State. Justify why you picked these set of states, and how they model the agent and its environment.***\n",
    "The state that I chose is represented by the input parameters, the next waypoint and the deadline. <br>\n",
    "I chose these parameters for my state because it represents the scenario of real life driving to a very good extent. In real life, while driving a cab, one considers oncoming traffic, lights etc. as well as in how much time one has to get there and the proposed route using waypoints. Another factor that I considered while choosing state variables was the availability of these in real life. The state variables that I chose are available through sensors in a self driving car.\n",
    "Task 2\n",
    "========\n",
    "### Implement Q Learning"
   ]
  }
 ],
 "metadata": {
  "kernelspec": {
   "display_name": "Python 2",
   "language": "python",
   "name": "python2"
  },
  "language_info": {
   "codemirror_mode": {
    "name": "ipython",
    "version": 2
   },
   "file_extension": ".py",
   "mimetype": "text/x-python",
   "name": "python",
   "nbconvert_exporter": "python",
   "pygments_lexer": "ipython2",
   "version": "2.7"
  }
 },
 "nbformat": 4,
 "nbformat_minor": 0
}
