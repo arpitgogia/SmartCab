{
 "cells": [
  {
   "cell_type": "markdown",
   "metadata": {},
   "source": [
    "Project 4: Train a Smartcab\n",
    "==========================\n",
    "\n",
    "Training a smartcab using Reinforcement Learning\n",
    "\n",
    "Task 1\n",
    "======\n",
    "### Implement a basic Learning Agent\n",
    "Actions are randomly choosen at each iteration using **```random.choice(available_actions)```**\n",
    "```\n",
    "if inputs['light'] == 'red':\n",
    "            \"\"\"\n",
    "                Red Light means :\n",
    "                    Left when no oncoming traffic\n",
    "                    No action\n",
    "            \"\"\"\n",
    "            if inputs['oncoming'] != 'left':\n",
    "                available_actions = [None, 'right']\n",
    "        else:\n",
    "            \"\"\"\n",
    "                Green Light means :\n",
    "                    Left only if no forward oncoming traffic\n",
    "                    Perform atleast some action\n",
    "            \"\"\"        \n",
    "            available_actions = ['right', 'left', 'forward']\n",
    "            if inputs['oncoming'] == 'forward':\n",
    "                available_actions.remove('left')\n",
    "        action = None\n",
    "        if available_actions != []:\n",
    "            action = random.choice(available_actions)\n",
    "```\n",
    "### ***Q1. Mention what you see in the agent’s behavior. Does it eventually make it to the target location?***\n",
    "Below is the output as a result of the random movement algorithm (```/smartcab/test_random.txt```):\n",
    "<br>\n",
    "**32 times out of the 100 trips the cab reaches the destination**"
   ]
  }
 ],
 "metadata": {
  "kernelspec": {
   "display_name": "Python 2",
   "language": "python",
   "name": "python2"
  },
  "language_info": {
   "codemirror_mode": {
    "name": "ipython",
    "version": 2
   },
   "file_extension": ".py",
   "mimetype": "text/x-python",
   "name": "python",
   "nbconvert_exporter": "python",
   "pygments_lexer": "ipython2",
   "version": "2.7"
  }
 },
 "nbformat": 4,
 "nbformat_minor": 0
}
